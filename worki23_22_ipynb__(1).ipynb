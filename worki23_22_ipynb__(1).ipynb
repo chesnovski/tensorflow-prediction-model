{
  "nbformat": 4,
  "nbformat_minor": 0,
  "metadata": {
    "colab": {
      "provenance": [],
      "collapsed_sections": []
    },
    "kernelspec": {
      "name": "python3",
      "display_name": "Python 3"
    },
    "language_info": {
      "name": "python"
    },
    "accelerator": "GPU"
  },
  "cells": [
    {
      "cell_type": "markdown",
      "source": [
        "### !!!!!!!!! At firs we shold prepare dataset according to the instruction tutorial_obrazy.pdf"
      ],
      "metadata": {
        "id": "TjWdZiJ_3E9w"
      }
    },
    {
      "cell_type": "markdown",
      "source": [
        "Connect Cloud GPU "
      ],
      "metadata": {
        "id": "jYQVo4g7nC-H"
      }
    },
    {
      "cell_type": "code",
      "execution_count": null,
      "metadata": {
        "id": "w4SBlf8kziji",
        "colab": {
          "base_uri": "https://localhost:8080/"
        },
        "outputId": "4832a356-1836-43c8-8040-55bfe613e3ee"
      },
      "outputs": [
        {
          "output_type": "stream",
          "name": "stdout",
          "text": [
            "Tue Oct 25 07:13:18 2022       \n",
            "+-----------------------------------------------------------------------------+\n",
            "| NVIDIA-SMI 460.32.03    Driver Version: 460.32.03    CUDA Version: 11.2     |\n",
            "|-------------------------------+----------------------+----------------------+\n",
            "| GPU  Name        Persistence-M| Bus-Id        Disp.A | Volatile Uncorr. ECC |\n",
            "| Fan  Temp  Perf  Pwr:Usage/Cap|         Memory-Usage | GPU-Util  Compute M. |\n",
            "|                               |                      |               MIG M. |\n",
            "|===============================+======================+======================|\n",
            "|   0  Tesla T4            Off  | 00000000:00:04.0 Off |                    0 |\n",
            "| N/A   68C    P8    11W /  70W |      0MiB / 15109MiB |      0%      Default |\n",
            "|                               |                      |                  N/A |\n",
            "+-------------------------------+----------------------+----------------------+\n",
            "                                                                               \n",
            "+-----------------------------------------------------------------------------+\n",
            "| Processes:                                                                  |\n",
            "|  GPU   GI   CI        PID   Type   Process name                  GPU Memory |\n",
            "|        ID   ID                                                   Usage      |\n",
            "|=============================================================================|\n",
            "|  No running processes found                                                 |\n",
            "+-----------------------------------------------------------------------------+\n"
          ]
        }
      ],
      "source": [
        "!nvidia-smi"
      ]
    },
    {
      "cell_type": "markdown",
      "source": [
        "Import Libraries"
      ],
      "metadata": {
        "id": "0qvpkDNkoMAf"
      }
    },
    {
      "cell_type": "code",
      "source": [
        "import numpy as np\n",
        "import tensorflow as tf\n",
        "import matplotlib.pyplot as plt\n",
        "import os\n",
        "import PIL\n",
        "\n",
        "\n",
        "from tensorflow import keras\n",
        "from tensorflow.keras import layers\n",
        "from tensorflow.keras.models import Sequential\n",
        "\n",
        "\n",
        "import pathlib\n",
        "\n",
        "# from google.colab import drive\n",
        "# drive.mount('/content/drive')\n",
        "# !ln -s /content/drive/My\\ Drive/ /mydrive\n",
        "# !ls /mydrive\n",
        "\n",
        "# !mkdir \"/mydrive/flower_photos\"\n",
        "\n",
        "# !unzip /mydrive/tarcza.zip -d data/obj\n",
        "\n",
        "import glob\n",
        "import os\n",
        "import re"
      ],
      "metadata": {
        "id": "_WOIohSz3qJ1"
      },
      "execution_count": null,
      "outputs": []
    },
    {
      "cell_type": "markdown",
      "source": [
        "Callback class: It allows to finish train when accuracy will be 90%\n",
        "If you use it you can't use schedule from acc.history bellow \n"
      ],
      "metadata": {
        "id": "nbaluMkyoe1h"
      }
    },
    {
      "cell_type": "code",
      "source": [
        "# class myCallback(tf.keras.callbacks.Callback):\n",
        "#   def on_epoch_end(self, epoch, logs={}):\n",
        "#     if(logs.get('accuracy')>0.95):\n",
        "#       print(\"\\nReached 90% accuracy so cancelling training!\")\n",
        "#       self.model.stop_training = True\n",
        "\n",
        "# callbacks = myCallback()"
      ],
      "metadata": {
        "id": "LqXr82yPyNOG"
      },
      "execution_count": null,
      "outputs": []
    },
    {
      "cell_type": "markdown",
      "source": [
        "Check current dir . It should be dir on your Googledrive if you use Colab"
      ],
      "metadata": {
        "id": "mOntW-pjpcjU"
      }
    },
    {
      "cell_type": "code",
      "source": [
        "os.chdir(\"/content/drive/MyDrive/worki\")"
      ],
      "metadata": {
        "id": "AMenpu8XoG0E"
      },
      "execution_count": null,
      "outputs": []
    },
    {
      "cell_type": "markdown",
      "source": [
        "Check files from choosen folders. It's only for examle"
      ],
      "metadata": {
        "id": "yWX7cQ4Tps3b"
      }
    },
    {
      "cell_type": "code",
      "source": [
        "OK= list( glob.glob(r'/content/drive/MyDrive/worki/OK/*.png'))\n",
        "#NOK = list(glob.glob(r'/content/lemon-quality-dataset/lemon_dataset/bad_quality/*'))\n",
        "PIL.Image.open(str(OK[2]))"
      ],
      "metadata": {
        "id": "MjYS-vFw3siz"
      },
      "execution_count": null,
      "outputs": []
    },
    {
      "cell_type": "code",
      "source": [
        "NOK= list( glob.glob(r'/content/drive/MyDrive/worki/NOK/*.png'))\n",
        "\n",
        "PIL.Image.open(str(NOK[0]))"
      ],
      "metadata": {
        "id": "JV-4FTAIWlpX"
      },
      "execution_count": null,
      "outputs": []
    },
    {
      "cell_type": "markdown",
      "source": [
        "We split the photo collection into photos for training and validation.It should be 80/20 \n",
        "img_height and img_width is the size of the photos. The script reduces the size of the photo itself. It's worth having fun\n",
        "these parameters. Too small a size will cause some information to disappear from the photo, too\n",
        "the large size of the photo will cause the allocated memory to run out.\n",
        "The batch_size variable tells about how many photos will be processed at once, it is about calculations\n",
        "parallel run by the GPU. A low value will make learning time-consuming\n",
        "long, high value can exhaust available resources."
      ],
      "metadata": {
        "id": "xFVNHRtrqAgG"
      }
    },
    {
      "cell_type": "code",
      "source": [
        "batch_size = 32\n",
        "img_height = 180\n",
        "img_width = 180\n",
        "\n",
        "\n",
        "\n",
        "train_ds = tf.keras.preprocessing.image_dataset_from_directory(\n",
        "   \"/content/drive/MyDrive/worki\",\n",
        "    validation_split = 0.2,\n",
        "    subset=\"training\",\n",
        "    seed=123,\n",
        "    image_size = (img_height, img_width),\n",
        "    batch_size = batch_size\n",
        ")\n",
        "val_ds = tf.keras.preprocessing.image_dataset_from_directory(\n",
        "    \"/content/drive/MyDrive/worki\",\n",
        "    validation_split = 0.2,\n",
        "    subset =\"validation\",\n",
        "    seed = 123,\n",
        "    image_size=(img_height,img_width),\n",
        "    batch_size=batch_size\n",
        ")"
      ],
      "metadata": {
        "colab": {
          "base_uri": "https://localhost:8080/"
        },
        "id": "DFUdfA0v4vM8",
        "outputId": "31d29cdc-707d-4d1f-bf22-ec1ee1deea13"
      },
      "execution_count": null,
      "outputs": [
        {
          "output_type": "stream",
          "name": "stdout",
          "text": [
            "Found 550 files belonging to 2 classes.\n",
            "Using 440 files for training.\n",
            "Found 550 files belonging to 2 classes.\n",
            "Using 110 files for validation.\n"
          ]
        }
      ]
    },
    {
      "cell_type": "markdown",
      "source": [
        "Define classes . In our case it should be only 2 folders OK and NOK .Nothing aditional "
      ],
      "metadata": {
        "id": "ZIYa5ytMp_k4"
      }
    },
    {
      "cell_type": "code",
      "source": [
        "class_names =train_ds.class_names\n",
        "print(class_names)"
      ],
      "metadata": {
        "colab": {
          "base_uri": "https://localhost:8080/"
        },
        "id": "LZNAthE548Hp",
        "outputId": "a2adc2b4-bc85-443a-c748-67fc6f09f8a2"
      },
      "execution_count": null,
      "outputs": [
        {
          "output_type": "stream",
          "name": "stdout",
          "text": [
            "['NOK', 'OK']\n"
          ]
        }
      ]
    },
    {
      "cell_type": "markdown",
      "source": [
        "Autotune.Parameters to increase the efficiency of network learning."
      ],
      "metadata": {
        "id": "koXmgK1KsHuZ"
      }
    },
    {
      "cell_type": "code",
      "source": [
        "AUTOTUNE = tf.data.experimental.AUTOTUNE\n",
        "\n",
        "train_ds = train_ds.cache().shuffle(1000).prefetch(buffer_size=AUTOTUNE)\n",
        "val_ds = val_ds.cache().prefetch(buffer_size=AUTOTUNE)"
      ],
      "metadata": {
        "id": "1C5Bz8WU49bE"
      },
      "execution_count": null,
      "outputs": []
    },
    {
      "cell_type": "markdown",
      "source": [
        "Defining what the neural network itself looks like, how many layers, how many neurons in a layer they have\n",
        "neurons function.\n",
        "\n",
        "conv2d layer https://keras.io/api/layers/convolution_layers/convolution2d/\n",
        "MaxPool2d layer https://keras.io/api/layers/pooling_layers/max_pooling2d/\n",
        "Dense layer https://keras.io/api/layers/core_layers/dense/"
      ],
      "metadata": {
        "id": "qcoWYcpwsbLP"
      }
    },
    {
      "cell_type": "code",
      "source": [
        "num_classes = 2\n",
        "\n",
        "model = Sequential([\n",
        "                    layers.experimental.preprocessing.Rescaling(1./255,input_shape=(img_height,img_width,3) ),\n",
        "                   # layers.experimental.preprocessing.Rescaling(1./255,input_shape=(img_height,img_width,3) ),\n",
        "                    layers.Conv2D(16,3,padding='same', activation='relu'),\n",
        "                    layers.MaxPool2D(),\n",
        "                    layers.Conv2D(32,3,padding='same', activation='relu'),\n",
        "                    layers.MaxPool2D(),\n",
        "                    layers.Conv2D(64,3,padding='same', activation= 'relu'),\n",
        "                    layers.MaxPool2D(),\n",
        "                    layers.Conv2D(64,3, padding ='same', activation = 'relu'),\n",
        "                    layers.Flatten(),\n",
        "                    layers.Dense(512, activation='relu'),\n",
        "                    layers.Dense(num_classes, activation='softmax')\n",
        "\n",
        "\n",
        "])\n"
      ],
      "metadata": {
        "id": "POG_6bOP5B2n"
      },
      "execution_count": null,
      "outputs": []
    },
    {
      "cell_type": "markdown",
      "source": [
        "Compile model .We use optimizer and losses method https://keras.io/api/models/model_training_apis/"
      ],
      "metadata": {
        "id": "52M8Wvxyu4Bg"
      }
    },
    {
      "cell_type": "code",
      "source": [
        "model.compile(optimizer='adam',\n",
        "              loss=tf.keras.losses.SparseCategoricalCrossentropy(from_logits=True),\n",
        "              metrics=['accuracy'])"
      ],
      "metadata": {
        "id": "u1JgnDee5GMN"
      },
      "execution_count": null,
      "outputs": []
    },
    {
      "cell_type": "markdown",
      "source": [
        "Launching the network learning  Epoch\n",
        "tells how many learning iterations are to be performed. Generally it turns out that more is not better.\n",
        "\n",
        "If you use cloud GPU it will be fast, but without it too long. But we can write network parameters during the train and continue train before . If you want to do it you should open Pojawas file and check how it looks there "
      ],
      "metadata": {
        "id": "2VVUoEmQvj45"
      }
    },
    {
      "cell_type": "code",
      "source": [
        "epochs=40\n",
        "history=model.fit(train_ds,validation_data=val_ds,epochs=epochs)#, callbacks=[callbacks])  "
      ],
      "metadata": {
        "colab": {
          "base_uri": "https://localhost:8080/"
        },
        "id": "MMwf_p9v5JsB",
        "outputId": "a3031cdb-ab8d-4aba-c13a-457484bb121f"
      },
      "execution_count": null,
      "outputs": [
        {
          "output_type": "stream",
          "name": "stdout",
          "text": [
            "Epoch 1/40\n",
            "14/14 [==============================] - 1s 46ms/step - loss: 0.4420 - accuracy: 0.8136 - val_loss: 0.2144 - val_accuracy: 0.9364\n",
            "Epoch 2/40\n",
            "14/14 [==============================] - 0s 28ms/step - loss: 0.2510 - accuracy: 0.9341 - val_loss: 0.1829 - val_accuracy: 0.9364\n",
            "Epoch 3/40\n",
            "14/14 [==============================] - 0s 28ms/step - loss: 0.1256 - accuracy: 0.9477 - val_loss: 0.0914 - val_accuracy: 0.9727\n",
            "Epoch 4/40\n",
            "14/14 [==============================] - 0s 28ms/step - loss: 0.0761 - accuracy: 0.9795 - val_loss: 0.0726 - val_accuracy: 0.9818\n",
            "Epoch 5/40\n",
            "14/14 [==============================] - 0s 28ms/step - loss: 0.0609 - accuracy: 0.9818 - val_loss: 0.0762 - val_accuracy: 0.9636\n",
            "Epoch 6/40\n",
            "14/14 [==============================] - 0s 28ms/step - loss: 0.0399 - accuracy: 0.9841 - val_loss: 0.0279 - val_accuracy: 0.9909\n",
            "Epoch 7/40\n",
            "14/14 [==============================] - 0s 28ms/step - loss: 0.0319 - accuracy: 0.9841 - val_loss: 0.0849 - val_accuracy: 0.9727\n",
            "Epoch 8/40\n",
            "14/14 [==============================] - 0s 28ms/step - loss: 0.0362 - accuracy: 0.9886 - val_loss: 0.0342 - val_accuracy: 0.9818\n",
            "Epoch 9/40\n",
            "14/14 [==============================] - 0s 28ms/step - loss: 0.0221 - accuracy: 0.9932 - val_loss: 0.0315 - val_accuracy: 0.9909\n",
            "Epoch 10/40\n",
            "14/14 [==============================] - 0s 28ms/step - loss: 0.0349 - accuracy: 0.9909 - val_loss: 0.0731 - val_accuracy: 0.9818\n",
            "Epoch 11/40\n",
            "14/14 [==============================] - 0s 29ms/step - loss: 0.0640 - accuracy: 0.9841 - val_loss: 0.0642 - val_accuracy: 0.9818\n",
            "Epoch 12/40\n",
            "14/14 [==============================] - 0s 28ms/step - loss: 0.0243 - accuracy: 0.9932 - val_loss: 0.0097 - val_accuracy: 0.9909\n",
            "Epoch 13/40\n",
            "14/14 [==============================] - 0s 28ms/step - loss: 0.0078 - accuracy: 0.9977 - val_loss: 0.0050 - val_accuracy: 1.0000\n",
            "Epoch 14/40\n",
            "14/14 [==============================] - 0s 29ms/step - loss: 0.0020 - accuracy: 1.0000 - val_loss: 0.0176 - val_accuracy: 0.9909\n",
            "Epoch 15/40\n",
            "14/14 [==============================] - 0s 29ms/step - loss: 0.0087 - accuracy: 0.9955 - val_loss: 0.0182 - val_accuracy: 0.9909\n",
            "Epoch 16/40\n",
            "14/14 [==============================] - 0s 29ms/step - loss: 0.0176 - accuracy: 0.9955 - val_loss: 0.0356 - val_accuracy: 0.9818\n",
            "Epoch 17/40\n",
            "14/14 [==============================] - 0s 29ms/step - loss: 0.0095 - accuracy: 0.9977 - val_loss: 0.0328 - val_accuracy: 0.9818\n",
            "Epoch 18/40\n",
            "14/14 [==============================] - 0s 28ms/step - loss: 0.0014 - accuracy: 1.0000 - val_loss: 0.0053 - val_accuracy: 1.0000\n",
            "Epoch 19/40\n",
            "14/14 [==============================] - 0s 28ms/step - loss: 8.0034e-04 - accuracy: 1.0000 - val_loss: 0.0057 - val_accuracy: 1.0000\n",
            "Epoch 20/40\n",
            "14/14 [==============================] - 0s 28ms/step - loss: 3.8411e-04 - accuracy: 1.0000 - val_loss: 0.0095 - val_accuracy: 0.9909\n",
            "Epoch 21/40\n",
            "14/14 [==============================] - 0s 29ms/step - loss: 1.7990e-04 - accuracy: 1.0000 - val_loss: 0.0067 - val_accuracy: 1.0000\n",
            "Epoch 22/40\n",
            "14/14 [==============================] - 0s 29ms/step - loss: 1.3069e-04 - accuracy: 1.0000 - val_loss: 0.0060 - val_accuracy: 1.0000\n",
            "Epoch 23/40\n",
            "14/14 [==============================] - 0s 29ms/step - loss: 1.0399e-04 - accuracy: 1.0000 - val_loss: 0.0063 - val_accuracy: 1.0000\n",
            "Epoch 24/40\n",
            "14/14 [==============================] - 0s 28ms/step - loss: 9.1927e-05 - accuracy: 1.0000 - val_loss: 0.0069 - val_accuracy: 1.0000\n",
            "Epoch 25/40\n",
            "14/14 [==============================] - 0s 28ms/step - loss: 8.0795e-05 - accuracy: 1.0000 - val_loss: 0.0069 - val_accuracy: 0.9909\n",
            "Epoch 26/40\n",
            "14/14 [==============================] - 0s 28ms/step - loss: 7.3556e-05 - accuracy: 1.0000 - val_loss: 0.0065 - val_accuracy: 1.0000\n",
            "Epoch 27/40\n",
            "14/14 [==============================] - 0s 29ms/step - loss: 6.6193e-05 - accuracy: 1.0000 - val_loss: 0.0064 - val_accuracy: 1.0000\n",
            "Epoch 28/40\n",
            "14/14 [==============================] - 0s 28ms/step - loss: 6.0816e-05 - accuracy: 1.0000 - val_loss: 0.0067 - val_accuracy: 1.0000\n",
            "Epoch 29/40\n",
            "14/14 [==============================] - 0s 29ms/step - loss: 5.5673e-05 - accuracy: 1.0000 - val_loss: 0.0066 - val_accuracy: 1.0000\n",
            "Epoch 30/40\n",
            "14/14 [==============================] - 0s 28ms/step - loss: 5.2026e-05 - accuracy: 1.0000 - val_loss: 0.0063 - val_accuracy: 1.0000\n",
            "Epoch 31/40\n",
            "14/14 [==============================] - 0s 29ms/step - loss: 4.8263e-05 - accuracy: 1.0000 - val_loss: 0.0062 - val_accuracy: 1.0000\n",
            "Epoch 32/40\n",
            "14/14 [==============================] - 0s 28ms/step - loss: 4.5933e-05 - accuracy: 1.0000 - val_loss: 0.0064 - val_accuracy: 1.0000\n",
            "Epoch 33/40\n",
            "14/14 [==============================] - 0s 28ms/step - loss: 4.2206e-05 - accuracy: 1.0000 - val_loss: 0.0064 - val_accuracy: 1.0000\n",
            "Epoch 34/40\n",
            "14/14 [==============================] - 0s 30ms/step - loss: 3.9538e-05 - accuracy: 1.0000 - val_loss: 0.0062 - val_accuracy: 1.0000\n",
            "Epoch 35/40\n",
            "14/14 [==============================] - 0s 30ms/step - loss: 3.7332e-05 - accuracy: 1.0000 - val_loss: 0.0064 - val_accuracy: 1.0000\n",
            "Epoch 36/40\n",
            "14/14 [==============================] - 0s 32ms/step - loss: 3.4967e-05 - accuracy: 1.0000 - val_loss: 0.0063 - val_accuracy: 1.0000\n",
            "Epoch 37/40\n",
            "14/14 [==============================] - 0s 29ms/step - loss: 3.3317e-05 - accuracy: 1.0000 - val_loss: 0.0065 - val_accuracy: 1.0000\n",
            "Epoch 38/40\n",
            "14/14 [==============================] - 0s 30ms/step - loss: 3.1642e-05 - accuracy: 1.0000 - val_loss: 0.0061 - val_accuracy: 1.0000\n",
            "Epoch 39/40\n",
            "14/14 [==============================] - 0s 30ms/step - loss: 2.9792e-05 - accuracy: 1.0000 - val_loss: 0.0061 - val_accuracy: 1.0000\n",
            "Epoch 40/40\n",
            "14/14 [==============================] - 0s 29ms/step - loss: 2.8130e-05 - accuracy: 1.0000 - val_loss: 0.0064 - val_accuracy: 1.0000\n"
          ]
        }
      ]
    },
    {
      "cell_type": "markdown",
      "source": [
        "Key parameters after learning "
      ],
      "metadata": {
        "id": "dr1Asek-xaBx"
      }
    },
    {
      "cell_type": "code",
      "source": [
        "print(history.history.keys())"
      ],
      "metadata": {
        "colab": {
          "base_uri": "https://localhost:8080/"
        },
        "id": "pmYAccy7w32W",
        "outputId": "625d7a34-fdc2-4852-fe82-7c5c20d2c11b"
      },
      "execution_count": null,
      "outputs": [
        {
          "output_type": "stream",
          "name": "stdout",
          "text": [
            "dict_keys(['loss', 'accuracy', 'val_loss', 'val_accuracy'])\n"
          ]
        }
      ]
    },
    {
      "cell_type": "markdown",
      "source": [
        "We look on the chart on the left. You can see that the network has the training data\n",
        "100% effectiveness and 98% on the validation data is a good result. You can also see that after\n",
        "around 25 iterations, the network basically stopped learning."
      ],
      "metadata": {
        "id": "sZrvqnWRxjBJ"
      }
    },
    {
      "cell_type": "code",
      "source": [
        "acc = history.history['accuracy']\n",
        "val_acc = history.history['val_accuracy']\n",
        "\n",
        "loss = history.history['loss']\n",
        "val_loss = history.history['val_loss']\n",
        "\n",
        "epochs_range = range(epochs)\n",
        "\n",
        "plt.figure(figsize=(8,8))\n",
        "plt.subplot(1,2,1)\n",
        "plt.plot(epochs_range, acc, label='Training Accuracy')\n",
        "plt.plot(epochs_range, val_acc, label='Validation Accuracy')\n",
        "plt.legend(loc='lower right')\n",
        "plt.title('Training and Validation Accuracy')\n",
        "\n",
        "plt.subplot(1, 2, 2)\n",
        "plt.plot(epochs_range, loss, label='Training Loss')\n",
        "plt.plot(epochs_range, val_loss, label='Validation Loss')\n",
        "plt.legend(loc='upper right')\n",
        "plt.title('Training and Validation Loss')\n",
        "plt.show()"
      ],
      "metadata": {
        "colab": {
          "base_uri": "https://localhost:8080/",
          "height": 499
        },
        "id": "zSn3kY2NxEzD",
        "outputId": "18e9b1de-d03d-4665-ea91-3398768e94b3"
      },
      "execution_count": null,
      "outputs": [
        {
          "output_type": "display_data",
          "data": {
            "text/plain": [
              "<Figure size 576x576 with 2 Axes>"
            ],
            "image/png": "[encoded data removed]"
          },
          "metadata": {
            "needs_background": "light"
          }
        }
      ]
    },
    {
      "cell_type": "markdown",
      "source": [
        "Check our result on any img out of(not from ) ours dataset . The predictions variable determines result"
      ],
      "metadata": {
        "id": "R0_cRiUVyEWE"
      }
    },
    {
      "cell_type": "code",
      "source": [
        "img = keras.preprocessing.image.load_img(\n",
        "    \"/content/drive/MyDrive/worki/Picture_2022_10_21__06_59_45_23.png\", target_size=(img_height, img_width)\n",
        ")\n",
        "plt.imshow(img)\n",
        "img_array = keras.preprocessing.image.img_to_array(img)\n",
        "img_array = tf.expand_dims(img_array, 0) # Create a batch\n",
        "\n",
        "predictions = model.predict(img_array)\n",
        "score = tf.nn.softmax(predictions[0])\n",
        "\n",
        "# print(\n",
        "#    \"This image most likely belongs to {} with a {:.2f} percent confidence.\"\n",
        "#    .format(class_names[np.argmax(score)], 100 * np.max(score))\n",
        "# )\n",
        "\n",
        "print(predictions)"
      ],
      "metadata": {
        "id": "Ox0TREVCxpww"
      },
      "execution_count": null,
      "outputs": []
    },
    {
      "cell_type": "code",
      "source": [
        "print(predictions[0])\n",
        "print(class_names)"
      ],
      "metadata": {
        "colab": {
          "base_uri": "https://localhost:8080/"
        },
        "id": "NPpETcl1x_Z4",
        "outputId": "8951b632-a22e-4cae-fe59-3fc85d99300f"
      },
      "execution_count": null,
      "outputs": [
        {
          "output_type": "stream",
          "name": "stdout",
          "text": [
            "[1.000000e+00 7.630253e-20]\n",
            "['NOK', 'OK']\n"
          ]
        }
      ]
    },
    {
      "cell_type": "code",
      "source": [
        "os.chdir(\"/content/drive/MyDrive/My Drive/lastpr\")"
      ],
      "metadata": {
        "id": "AHAnyfzoxN72"
      },
      "execution_count": null,
      "outputs": []
    },
    {
      "cell_type": "code",
      "source": [
        "os.getcwd()"
      ],
      "metadata": {
        "colab": {
          "base_uri": "https://localhost:8080/",
          "height": 35
        },
        "id": "hVS_TKxIBf7k",
        "outputId": "0fac2467-7e91-4bbf-948a-d3e69f6b851a"
      },
      "execution_count": null,
      "outputs": [
        {
          "output_type": "execute_result",
          "data": {
            "text/plain": [
              "'/content/drive/My Drive/lastpr'"
            ],
            "application/vnd.google.colaboratory.intrinsic+json": {
              "type": "string"
            }
          },
          "metadata": {},
          "execution_count": 38
        }
      ]
    },
    {
      "cell_type": "markdown",
      "source": [
        "Save our model . format .h5"
      ],
      "metadata": {
        "id": "qXzasclY1P86"
      }
    },
    {
      "cell_type": "code",
      "source": [
        "model.save('worki25_22.h5')"
      ],
      "metadata": {
        "id": "gpH3sNBVB1P6"
      },
      "execution_count": null,
      "outputs": []
    },
    {
      "cell_type": "markdown",
      "source": [
        "Load saved model"
      ],
      "metadata": {
        "id": "rm9-GWED1jSK"
      }
    },
    {
      "cell_type": "code",
      "source": [
        "model = keras.models.load_model(\"/content/drive/MyDrive/lastpr/worki25_22.h5\")"
      ],
      "metadata": {
        "id": "KIzfsZwoMxnB"
      },
      "execution_count": null,
      "outputs": []
    },
    {
      "cell_type": "markdown",
      "source": [
        "Load img file and check prediction "
      ],
      "metadata": {
        "id": "JjtMFirm1pbb"
      }
    },
    {
      "cell_type": "code",
      "source": [
        "img = keras.preprocessing.image.load_img(\n",
        "    \"/content/drive/MyDrive/lastpr/lemon-quality-dataset/lemon_dataset/OK/good_quality_1000.jpg\", target_size=(180, 180)\n",
        ")\n",
        "plt.imshow(img)\n",
        "img_array = keras.preprocessing.image.img_to_array(img)\n",
        "img_array = tf.expand_dims(img_array, 0) # Create a batch\n",
        "\n",
        "predictions = model.predict(img_array)\n",
        "score = tf.nn.softmax(predictions[0])"
      ],
      "metadata": {
        "id": "rphqn1ncNEqm"
      },
      "execution_count": null,
      "outputs": []
    },
    {
      "cell_type": "markdown",
      "source": [
        "That's all "
      ],
      "metadata": {
        "id": "pzAyyfkx2lNp"
      }
    },
    {
      "cell_type": "code",
      "source": [],
      "metadata": {
        "id": "SXny8DQX2pow"
      },
      "execution_count": null,
      "outputs": []
    }
  ]
}