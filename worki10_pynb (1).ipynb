{
  "nbformat": 4,
  "nbformat_minor": 0,
  "metadata": {
    "colab": {
      "provenance": []
    },
    "kernelspec": {
      "name": "python3",
      "display_name": "Python 3"
    },
    "language_info": {
      "name": "python"
    },
    "accelerator": "GPU"
  },
  "cells": [
    {
      "cell_type": "markdown",
      "source": [
        "Connect Cloud GPU "
      ],
      "metadata": {
        "id": "jYQVo4g7nC-H"
      }
    },
    {
      "cell_type": "code",
      "execution_count": null,
      "metadata": {
        "id": "w4SBlf8kziji",
        "colab": {
          "base_uri": "https://localhost:8080/"
        },
        "outputId": "fff68996-3469-4338-bd72-6ef8360d3993"
      },
      "outputs": [
        {
          "output_type": "stream",
          "name": "stdout",
          "text": [
            "Thu Nov 10 18:19:00 2022       \n",
            "+-----------------------------------------------------------------------------+\n",
            "| NVIDIA-SMI 460.32.03    Driver Version: 460.32.03    CUDA Version: 11.2     |\n",
            "|-------------------------------+----------------------+----------------------+\n",
            "| GPU  Name        Persistence-M| Bus-Id        Disp.A | Volatile Uncorr. ECC |\n",
            "| Fan  Temp  Perf  Pwr:Usage/Cap|         Memory-Usage | GPU-Util  Compute M. |\n",
            "|                               |                      |               MIG M. |\n",
            "|===============================+======================+======================|\n",
            "|   0  Tesla T4            Off  | 00000000:00:04.0 Off |                    0 |\n",
            "| N/A   55C    P8    10W /  70W |      0MiB / 15109MiB |      0%      Default |\n",
            "|                               |                      |                  N/A |\n",
            "+-------------------------------+----------------------+----------------------+\n",
            "                                                                               \n",
            "+-----------------------------------------------------------------------------+\n",
            "| Processes:                                                                  |\n",
            "|  GPU   GI   CI        PID   Type   Process name                  GPU Memory |\n",
            "|        ID   ID                                                   Usage      |\n",
            "|=============================================================================|\n",
            "|  No running processes found                                                 |\n",
            "+-----------------------------------------------------------------------------+\n"
          ]
        }
      ],
      "source": [
        "!nvidia-smi"
      ]
    },
    {
      "cell_type": "markdown",
      "source": [
        "Import Libraries"
      ],
      "metadata": {
        "id": "0qvpkDNkoMAf"
      }
    },
    {
      "cell_type": "code",
      "source": [
        "import numpy as np\n",
        "import tensorflow as tf\n",
        "import matplotlib.pyplot as plt\n",
        "import os\n",
        "import PIL\n",
        "\n",
        "\n",
        "from tensorflow import keras\n",
        "from tensorflow.keras import layers\n",
        "from tensorflow.keras.models import Sequential\n",
        "\n",
        "\n",
        "import pathlib\n",
        "\n",
        "# from google.colab import drive\n",
        "# drive.mount('/content/drive')\n",
        "# !ln -s /content/drive/My\\ Drive/ /mydrive\n",
        "# !ls /mydrive\n",
        "\n",
        "# !mkdir \"/mydrive/flower_photos\"\n",
        "\n",
        "# !unzip /mydrive/tarcza.zip -d data/obj\n",
        "\n",
        "import glob\n",
        "import os\n",
        "import re"
      ],
      "metadata": {
        "id": "_WOIohSz3qJ1"
      },
      "execution_count": null,
      "outputs": []
    },
    {
      "cell_type": "markdown",
      "source": [
        "Callback class: It allows to finish train when accuracy will be 90%\n",
        "If you use it you can't use schedule from acc.history bellow \n"
      ],
      "metadata": {
        "id": "nbaluMkyoe1h"
      }
    },
    {
      "cell_type": "code",
      "source": [
        "# class myCallback(tf.keras.callbacks.Callback):\n",
        "#   def on_epoch_end(self, epoch, logs={}):\n",
        "#     if(logs.get('accuracy')>0.95):\n",
        "#       print(\"\\nReached 90% accuracy so cancelling training!\")\n",
        "#       self.model.stop_training = True\n",
        "\n",
        "# callbacks = myCallback()"
      ],
      "metadata": {
        "id": "LqXr82yPyNOG"
      },
      "execution_count": null,
      "outputs": []
    },
    {
      "cell_type": "markdown",
      "source": [
        "Check current dir . It should be dir on your Googledrive if you use Colab"
      ],
      "metadata": {
        "id": "mOntW-pjpcjU"
      }
    },
    {
      "cell_type": "code",
      "source": [
        "os.chdir(\"/content/drive/MyDrive/worki\")"
      ],
      "metadata": {
        "id": "AMenpu8XoG0E",
        "colab": {
          "base_uri": "https://localhost:8080/",
          "height": 165
        },
        "outputId": "8b973bdd-17ce-4b6f-a957-3e338dc4ec09"
      },
      "execution_count": null,
      "outputs": [
        {
          "output_type": "error",
          "ename": "FileNotFoundError",
          "evalue": "ignored",
          "traceback": [
            "\u001b[0;31m---------------------------------------------------------------------------\u001b[0m",
            "\u001b[0;31mFileNotFoundError\u001b[0m                         Traceback (most recent call last)",
            "\u001b[0;32m<ipython-input-3-70b244bea0d3>\u001b[0m in \u001b[0;36m<module>\u001b[0;34m\u001b[0m\n\u001b[0;32m----> 1\u001b[0;31m \u001b[0mos\u001b[0m\u001b[0;34m.\u001b[0m\u001b[0mchdir\u001b[0m\u001b[0;34m(\u001b[0m\u001b[0;34m\"/content/drive/MyDrive/worki\"\u001b[0m\u001b[0;34m)\u001b[0m\u001b[0;34m\u001b[0m\u001b[0;34m\u001b[0m\u001b[0m\n\u001b[0m",
            "\u001b[0;31mFileNotFoundError\u001b[0m: [Errno 2] No such file or directory: '/content/drive/MyDrive/worki'"
          ]
        }
      ]
    },
    {
      "cell_type": "markdown",
      "source": [
        "Check files from choosen folders. It's only for examle"
      ],
      "metadata": {
        "id": "yWX7cQ4Tps3b"
      }
    },
    {
      "cell_type": "code",
      "source": [
        "OK= list( glob.glob(r'/content/drive/MyDrive/worki/OK/*.png'))\n",
        "#NOK = list(glob.glob(r'/content/lemon-quality-dataset/lemon_dataset/bad_quality/*'))\n",
        "PIL.Image.open(str(OK[2]))"
      ],
      "metadata": {
        "id": "MjYS-vFw3siz"
      },
      "execution_count": null,
      "outputs": []
    },
    {
      "cell_type": "code",
      "source": [
        "from google.colab import drive\n",
        "drive.mount('/content/drive')"
      ],
      "metadata": {
        "colab": {
          "base_uri": "https://localhost:8080/"
        },
        "id": "Hxljigo_fDg_",
        "outputId": "8e039e2c-112f-4e53-9b1a-f8e7c6ed9981"
      },
      "execution_count": null,
      "outputs": [
        {
          "output_type": "stream",
          "name": "stdout",
          "text": [
            "Mounted at /content/drive\n"
          ]
        }
      ]
    },
    {
      "cell_type": "code",
      "source": [
        "NOK= list( glob.glob(r'/content/drive/MyDrive/worki/NOK/*.png'))\n",
        "\n",
        "PIL.Image.open(str(NOK[0]))"
      ],
      "metadata": {
        "id": "JV-4FTAIWlpX"
      },
      "execution_count": null,
      "outputs": []
    },
    {
      "cell_type": "markdown",
      "source": [
        "We split the photo collection into photos for training and validation.It should be 80/20 \n",
        "img_height and img_width is the size of the photos. The script reduces the size of the photo itself. It's worth having fun\n",
        "these parameters. Too small a size will cause some information to disappear from the photo, too\n",
        "the large size of the photo will cause the allocated memory to run out.\n",
        "The batch_size variable tells about how many photos will be processed at once, it is about calculations\n",
        "parallel run by the GPU. A low value will make learning time-consuming\n",
        "long, high value can exhaust available resources."
      ],
      "metadata": {
        "id": "xFVNHRtrqAgG"
      }
    },
    {
      "cell_type": "code",
      "source": [
        "batch_size = 37\n",
        "img_height = 180\n",
        "img_width = 180\n",
        "\n",
        "\n",
        "\n",
        "train_ds = tf.keras.preprocessing.image_dataset_from_directory(\n",
        "   \"/content/drive/MyDrive/worki\",\n",
        "    validation_split = 0.20,\n",
        "    subset=\"training\",\n",
        "    seed=123,\n",
        "    image_size = (img_height, img_width),\n",
        "    batch_size = batch_size\n",
        ")\n",
        "val_ds = tf.keras.preprocessing.image_dataset_from_directory(\n",
        "    \"/content/drive/MyDrive/worki\",\n",
        "    validation_split = 0.20,\n",
        "    subset =\"validation\",\n",
        "    seed = 123,\n",
        "    image_size=(img_height,img_width),\n",
        "    batch_size=batch_size\n",
        ")"
      ],
      "metadata": {
        "colab": {
          "base_uri": "https://localhost:8080/"
        },
        "id": "DFUdfA0v4vM8",
        "outputId": "86c41b49-ea77-4d53-e22b-dab4c630a17a"
      },
      "execution_count": null,
      "outputs": [
        {
          "output_type": "stream",
          "name": "stdout",
          "text": [
            "Found 550 files belonging to 2 classes.\n",
            "Using 440 files for training.\n",
            "Found 550 files belonging to 2 classes.\n",
            "Using 110 files for validation.\n"
          ]
        }
      ]
    },
    {
      "cell_type": "markdown",
      "source": [
        "Define classes . In our case it should be only 2 folders OK and NOK .Nothing aditional "
      ],
      "metadata": {
        "id": "ZIYa5ytMp_k4"
      }
    },
    {
      "cell_type": "code",
      "source": [
        "class_names =train_ds.class_names\n",
        "print(class_names)"
      ],
      "metadata": {
        "colab": {
          "base_uri": "https://localhost:8080/"
        },
        "id": "LZNAthE548Hp",
        "outputId": "d0ec5d3c-3752-4847-a723-86404c37f34e"
      },
      "execution_count": null,
      "outputs": [
        {
          "output_type": "stream",
          "name": "stdout",
          "text": [
            "['NOK', 'OK']\n"
          ]
        }
      ]
    },
    {
      "cell_type": "code",
      "source": [
        "import matplotlib.pyplot as plt\n",
        "\n",
        "plt.figure(figsize=(10,10))\n",
        "for images, labels in train_ds.take(1):\n",
        "  for i in range(9):\n",
        "    ax = plt.subplot(3,3,i+1)\n",
        "    plt.imshow(images[i].numpy().astype(\"uint8\"))\n",
        "    plt.title(class_names[labels[i]])\n",
        "    plt.axis(\"off\")"
      ],
      "metadata": {
        "id": "Tm2F2jWGhbez"
      },
      "execution_count": null,
      "outputs": []
    },
    {
      "cell_type": "markdown",
      "source": [
        "Autotune.Parameters to increase the efficiency of network learning."
      ],
      "metadata": {
        "id": "koXmgK1KsHuZ"
      }
    },
    {
      "cell_type": "code",
      "source": [
        "AUTOTUNE = tf.data.experimental.AUTOTUNE\n",
        "\n",
        "train_ds = train_ds.cache().shuffle(1000).prefetch(buffer_size=AUTOTUNE)\n",
        "val_ds = val_ds.cache().prefetch(buffer_size=AUTOTUNE)"
      ],
      "metadata": {
        "id": "1C5Bz8WU49bE"
      },
      "execution_count": null,
      "outputs": []
    },
    {
      "cell_type": "markdown",
      "source": [
        "Defining what the neural network itself looks like, how many layers, how many neurons in a layer they have\n",
        "neurons function.\n",
        "\n",
        "conv2d layer https://keras.io/api/layers/convolution_layers/convolution2d/\n",
        "MaxPool2d layer https://keras.io/api/layers/pooling_layers/max_pooling2d/\n",
        "Dense layer https://keras.io/api/layers/core_layers/dense/"
      ],
      "metadata": {
        "id": "qcoWYcpwsbLP"
      }
    },
    {
      "cell_type": "code",
      "source": [
        "num_classes = 2\n",
        "\n",
        "model = Sequential([\n",
        "                    layers.experimental.preprocessing.Rescaling(1./255,input_shape=(img_height,img_width,3) ),\n",
        "                   # layers.experimental.preprocessing.Rescaling(1./255,input_shape=(img_height,img_width,3) ),\n",
        "                    layers.Conv2D(16,3,padding='same', activation='relu'),\n",
        "                    layers.MaxPool2D(),\n",
        "                    layers.Conv2D(32,3,padding='same', activation='relu'),\n",
        "                    layers.MaxPool2D(),\n",
        "                    layers.Conv2D(64,3,padding='same', activation= 'relu'),\n",
        "                    layers.MaxPool2D(),\n",
        "                    layers.Conv2D(64,3, padding ='same', activation = 'relu'),\n",
        "                    layers.Flatten(),\n",
        "                    layers.Dense(512, activation='relu'),\n",
        "                    layers.Dense(num_classes, activation='softmax')\n",
        "\n",
        "\n",
        "])\n"
      ],
      "metadata": {
        "id": "POG_6bOP5B2n"
      },
      "execution_count": null,
      "outputs": []
    },
    {
      "cell_type": "markdown",
      "source": [
        "Compile model .We use optimizer and losses method https://keras.io/api/models/model_training_apis/"
      ],
      "metadata": {
        "id": "52M8Wvxyu4Bg"
      }
    },
    {
      "cell_type": "code",
      "source": [
        "model.compile(optimizer='adam',\n",
        "              loss=tf.keras.losses.SparseCategoricalCrossentropy(from_logits=True),\n",
        "              metrics=['accuracy'])"
      ],
      "metadata": {
        "id": "u1JgnDee5GMN"
      },
      "execution_count": null,
      "outputs": []
    },
    {
      "cell_type": "markdown",
      "source": [
        "Launching the network learning  Epoch\n",
        "tells how many learning iterations are to be performed. Generally it turns out that more is not better.\n",
        "\n",
        "If you use cloud GPU it will be fast, but without it too long. But we can write network parameters during the train and continue train before . If you want to do it you should open Pojawas file and check how it looks there "
      ],
      "metadata": {
        "id": "2VVUoEmQvj45"
      }
    },
    {
      "cell_type": "code",
      "source": [
        "epochs=45\n",
        "history=model.fit(train_ds,validation_data=val_ds,epochs=epochs,batch_size=batch_size)#, callbacks=[callbacks])  "
      ],
      "metadata": {
        "colab": {
          "base_uri": "https://localhost:8080/"
        },
        "id": "MMwf_p9v5JsB",
        "outputId": "7e70add8-3308-47c8-ef89-93d7fb3db5f9"
      },
      "execution_count": null,
      "outputs": [
        {
          "output_type": "stream",
          "name": "stdout",
          "text": [
            "Epoch 1/45\n",
            "12/12 [==============================] - 10s 212ms/step - loss: 0.9104 - accuracy: 0.7432 - val_loss: 0.2363 - val_accuracy: 0.9364\n",
            "Epoch 2/45\n",
            "12/12 [==============================] - 0s 33ms/step - loss: 0.2041 - accuracy: 0.9364 - val_loss: 0.2278 - val_accuracy: 0.9364\n",
            "Epoch 3/45\n",
            "12/12 [==============================] - 0s 32ms/step - loss: 0.1593 - accuracy: 0.9523 - val_loss: 0.1462 - val_accuracy: 0.9818\n",
            "Epoch 4/45\n",
            "12/12 [==============================] - 0s 32ms/step - loss: 0.1063 - accuracy: 0.9705 - val_loss: 0.1504 - val_accuracy: 0.9455\n",
            "Epoch 5/45\n",
            "12/12 [==============================] - 0s 32ms/step - loss: 0.1395 - accuracy: 0.9545 - val_loss: 0.1186 - val_accuracy: 0.9545\n",
            "Epoch 6/45\n",
            "12/12 [==============================] - 0s 33ms/step - loss: 0.0554 - accuracy: 0.9818 - val_loss: 0.0674 - val_accuracy: 0.9909\n",
            "Epoch 7/45\n",
            "12/12 [==============================] - 0s 33ms/step - loss: 0.0567 - accuracy: 0.9841 - val_loss: 0.0656 - val_accuracy: 0.9818\n",
            "Epoch 8/45\n",
            "12/12 [==============================] - 0s 32ms/step - loss: 0.0505 - accuracy: 0.9886 - val_loss: 0.0351 - val_accuracy: 0.9909\n",
            "Epoch 9/45\n",
            "12/12 [==============================] - 0s 32ms/step - loss: 0.0330 - accuracy: 0.9955 - val_loss: 0.0301 - val_accuracy: 0.9909\n",
            "Epoch 10/45\n",
            "12/12 [==============================] - 0s 32ms/step - loss: 0.0157 - accuracy: 0.9955 - val_loss: 0.0233 - val_accuracy: 0.9909\n",
            "Epoch 11/45\n",
            "12/12 [==============================] - 0s 33ms/step - loss: 0.0096 - accuracy: 0.9977 - val_loss: 0.0392 - val_accuracy: 0.9818\n",
            "Epoch 12/45\n",
            "12/12 [==============================] - 0s 32ms/step - loss: 0.0093 - accuracy: 0.9977 - val_loss: 0.0513 - val_accuracy: 0.9818\n",
            "Epoch 13/45\n",
            "12/12 [==============================] - 0s 32ms/step - loss: 0.0308 - accuracy: 0.9932 - val_loss: 0.0172 - val_accuracy: 0.9909\n",
            "Epoch 14/45\n",
            "12/12 [==============================] - 0s 32ms/step - loss: 0.0122 - accuracy: 0.9955 - val_loss: 0.0082 - val_accuracy: 1.0000\n",
            "Epoch 15/45\n",
            "12/12 [==============================] - 0s 32ms/step - loss: 0.0035 - accuracy: 0.9977 - val_loss: 0.0103 - val_accuracy: 0.9909\n",
            "Epoch 16/45\n",
            "12/12 [==============================] - 0s 33ms/step - loss: 8.0739e-04 - accuracy: 1.0000 - val_loss: 0.0129 - val_accuracy: 0.9909\n",
            "Epoch 17/45\n",
            "12/12 [==============================] - 0s 33ms/step - loss: 4.0384e-04 - accuracy: 1.0000 - val_loss: 0.0090 - val_accuracy: 0.9909\n",
            "Epoch 18/45\n",
            "12/12 [==============================] - 0s 32ms/step - loss: 2.6160e-04 - accuracy: 1.0000 - val_loss: 0.0093 - val_accuracy: 0.9909\n",
            "Epoch 19/45\n",
            "12/12 [==============================] - 0s 33ms/step - loss: 1.7957e-04 - accuracy: 1.0000 - val_loss: 0.0063 - val_accuracy: 1.0000\n",
            "Epoch 20/45\n",
            "12/12 [==============================] - 0s 32ms/step - loss: 1.4440e-04 - accuracy: 1.0000 - val_loss: 0.0071 - val_accuracy: 0.9909\n",
            "Epoch 21/45\n",
            "12/12 [==============================] - 0s 32ms/step - loss: 1.1912e-04 - accuracy: 1.0000 - val_loss: 0.0077 - val_accuracy: 0.9909\n",
            "Epoch 22/45\n",
            "12/12 [==============================] - 0s 33ms/step - loss: 9.7363e-05 - accuracy: 1.0000 - val_loss: 0.0078 - val_accuracy: 0.9909\n",
            "Epoch 23/45\n",
            "12/12 [==============================] - 0s 32ms/step - loss: 8.1612e-05 - accuracy: 1.0000 - val_loss: 0.0066 - val_accuracy: 1.0000\n",
            "Epoch 24/45\n",
            "12/12 [==============================] - 0s 33ms/step - loss: 7.3538e-05 - accuracy: 1.0000 - val_loss: 0.0075 - val_accuracy: 0.9909\n",
            "Epoch 25/45\n",
            "12/12 [==============================] - 0s 32ms/step - loss: 6.7648e-05 - accuracy: 1.0000 - val_loss: 0.0081 - val_accuracy: 0.9909\n",
            "Epoch 26/45\n",
            "12/12 [==============================] - 0s 33ms/step - loss: 6.3409e-05 - accuracy: 1.0000 - val_loss: 0.0052 - val_accuracy: 1.0000\n",
            "Epoch 27/45\n",
            "12/12 [==============================] - 0s 33ms/step - loss: 5.1190e-05 - accuracy: 1.0000 - val_loss: 0.0074 - val_accuracy: 0.9909\n",
            "Epoch 28/45\n",
            "12/12 [==============================] - 0s 32ms/step - loss: 4.5033e-05 - accuracy: 1.0000 - val_loss: 0.0060 - val_accuracy: 1.0000\n",
            "Epoch 29/45\n",
            "12/12 [==============================] - 0s 32ms/step - loss: 3.7584e-05 - accuracy: 1.0000 - val_loss: 0.0069 - val_accuracy: 0.9909\n",
            "Epoch 30/45\n",
            "12/12 [==============================] - 0s 32ms/step - loss: 3.3404e-05 - accuracy: 1.0000 - val_loss: 0.0069 - val_accuracy: 0.9909\n",
            "Epoch 31/45\n",
            "12/12 [==============================] - 0s 33ms/step - loss: 3.0257e-05 - accuracy: 1.0000 - val_loss: 0.0071 - val_accuracy: 0.9909\n",
            "Epoch 32/45\n",
            "12/12 [==============================] - 0s 32ms/step - loss: 2.7802e-05 - accuracy: 1.0000 - val_loss: 0.0072 - val_accuracy: 0.9909\n",
            "Epoch 33/45\n",
            "12/12 [==============================] - 0s 33ms/step - loss: 2.8305e-05 - accuracy: 1.0000 - val_loss: 0.0056 - val_accuracy: 1.0000\n",
            "Epoch 34/45\n",
            "12/12 [==============================] - 0s 33ms/step - loss: 2.2856e-05 - accuracy: 1.0000 - val_loss: 0.0063 - val_accuracy: 1.0000\n",
            "Epoch 35/45\n",
            "12/12 [==============================] - 0s 33ms/step - loss: 2.3147e-05 - accuracy: 1.0000 - val_loss: 0.0071 - val_accuracy: 0.9909\n",
            "Epoch 36/45\n",
            "12/12 [==============================] - 0s 33ms/step - loss: 2.1434e-05 - accuracy: 1.0000 - val_loss: 0.0054 - val_accuracy: 1.0000\n",
            "Epoch 37/45\n",
            "12/12 [==============================] - 0s 41ms/step - loss: 1.8053e-05 - accuracy: 1.0000 - val_loss: 0.0065 - val_accuracy: 1.0000\n",
            "Epoch 38/45\n",
            "12/12 [==============================] - 0s 37ms/step - loss: 1.7299e-05 - accuracy: 1.0000 - val_loss: 0.0069 - val_accuracy: 0.9909\n",
            "Epoch 39/45\n",
            "12/12 [==============================] - 0s 36ms/step - loss: 1.5955e-05 - accuracy: 1.0000 - val_loss: 0.0060 - val_accuracy: 1.0000\n",
            "Epoch 40/45\n",
            "12/12 [==============================] - 1s 41ms/step - loss: 1.4652e-05 - accuracy: 1.0000 - val_loss: 0.0064 - val_accuracy: 1.0000\n",
            "Epoch 41/45\n",
            "12/12 [==============================] - 0s 33ms/step - loss: 1.3850e-05 - accuracy: 1.0000 - val_loss: 0.0062 - val_accuracy: 1.0000\n",
            "Epoch 42/45\n",
            "12/12 [==============================] - 0s 32ms/step - loss: 1.2745e-05 - accuracy: 1.0000 - val_loss: 0.0065 - val_accuracy: 0.9909\n",
            "Epoch 43/45\n",
            "12/12 [==============================] - 0s 32ms/step - loss: 1.2130e-05 - accuracy: 1.0000 - val_loss: 0.0065 - val_accuracy: 0.9909\n",
            "Epoch 44/45\n",
            "12/12 [==============================] - 0s 33ms/step - loss: 1.1396e-05 - accuracy: 1.0000 - val_loss: 0.0062 - val_accuracy: 1.0000\n",
            "Epoch 45/45\n",
            "12/12 [==============================] - 0s 32ms/step - loss: 1.0645e-05 - accuracy: 1.0000 - val_loss: 0.0060 - val_accuracy: 1.0000\n"
          ]
        }
      ]
    },
    {
      "cell_type": "markdown",
      "source": [
        "Key parameters after learning "
      ],
      "metadata": {
        "id": "dr1Asek-xaBx"
      }
    },
    {
      "cell_type": "code",
      "source": [
        "print(history.history.keys())"
      ],
      "metadata": {
        "colab": {
          "base_uri": "https://localhost:8080/"
        },
        "id": "pmYAccy7w32W",
        "outputId": "c9d0d9a3-5bb5-4d23-a170-60b8030d3ebd"
      },
      "execution_count": null,
      "outputs": [
        {
          "output_type": "stream",
          "name": "stdout",
          "text": [
            "dict_keys(['loss', 'accuracy', 'val_loss', 'val_accuracy'])\n"
          ]
        }
      ]
    },
    {
      "cell_type": "markdown",
      "source": [
        "We look on the chart on the left. You can see that the network has the training data\n",
        "100% effectiveness and 98% on the validation data is a good result. You can also see that after\n",
        "around 25 iterations, the network basically stopped learning."
      ],
      "metadata": {
        "id": "sZrvqnWRxjBJ"
      }
    },
    {
      "cell_type": "code",
      "source": [
        "acc = history.history['accuracy']\n",
        "val_acc = history.history['val_accuracy']\n",
        "\n",
        "loss = history.history['loss']\n",
        "val_loss = history.history['val_loss']\n",
        "\n",
        "epochs_range = range(epochs)\n",
        "\n",
        "plt.figure(figsize=(8,8))\n",
        "plt.subplot(1,2,1)\n",
        "plt.plot(epochs_range, acc, label='Training Accuracy')\n",
        "plt.plot(epochs_range, val_acc, label='Validation Accuracy')\n",
        "plt.legend(loc='lower right')\n",
        "plt.title('Training and Validation Accuracy')\n",
        "\n",
        "plt.subplot(1, 2, 2)\n",
        "plt.plot(epochs_range, loss, label='Training Loss')\n",
        "plt.plot(epochs_range, val_loss, label='Validation Loss')\n",
        "plt.legend(loc='upper right')\n",
        "plt.title('Training and Validation Loss')\n",
        "plt.show()"
      ],
      "metadata": {
        "colab": {
          "base_uri": "https://localhost:8080/",
          "height": 499
        },
        "id": "zSn3kY2NxEzD",
        "outputId": "f85497f7-85ab-4d09-fd14-be6bb3b6fb47"
      },
      "execution_count": null,
      "outputs": [
        {
          "output_type": "display_data",
          "data": {
            "text/plain": [
              "<Figure size 576x576 with 2 Axes>"
            ],
            "image/png": "[encoded data removed]"
          },
          "metadata": {
            "needs_background": "light"
          }
        }
      ]
    },
    {
      "cell_type": "markdown",
      "source": [
        "Check our result on any img out of(not from ) ours dataset . The predictions variable determines result"
      ],
      "metadata": {
        "id": "R0_cRiUVyEWE"
      }
    },
    {
      "cell_type": "code",
      "source": [
        "img = keras.preprocessing.image.load_img(\n",
        "    \"/content/drive/MyDrive/worki/Picture_2022_10_24__10_22_51_12.png\", target_size=(img_height, img_width), interpolation=\"bilinear\"\n",
        ") \n",
        "plt.imshow(img)\n",
        "img_array = keras.preprocessing.image.img_to_array(img)\n",
        "img_array = tf.expand_dims(img_array, 0) # Create a batch\n",
        "\n",
        "predictions = model.predict(img_array)\n",
        "score = tf.nn.softmax(predictions[0])\n",
        "\n",
        "# print(\n",
        "#    \"This image most likely belongs to {} with a {:.2f} percent confidence.\"\n",
        "#    .format(class_names[np.argmax(score)], 100 * np.max(score))\n",
        "# )\n",
        "\n",
        "print(predictions)"
      ],
      "metadata": {
        "id": "Ox0TREVCxpww"
      },
      "execution_count": null,
      "outputs": []
    },
    {
      "cell_type": "code",
      "source": [
        "plt.rcParams[\"axes.grid\"] = False  #  Remove the grid lines from the image.\n",
        "plt.imshow(img)"
      ],
      "metadata": {
        "id": "2JXDUp-JvWQj"
      },
      "execution_count": null,
      "outputs": []
    },
    {
      "cell_type": "code",
      "source": [
        "print(predictions[0])\n",
        "print(class_names)"
      ],
      "metadata": {
        "colab": {
          "base_uri": "https://localhost:8080/"
        },
        "id": "NPpETcl1x_Z4",
        "outputId": "b53cba29-668c-4c9f-e752-d36433d3f4c6"
      },
      "execution_count": null,
      "outputs": [
        {
          "output_type": "stream",
          "name": "stdout",
          "text": [
            "[8.1483573e-05 9.9991846e-01]\n",
            "['NOK', 'OK']\n"
          ]
        }
      ]
    },
    {
      "cell_type": "code",
      "source": [
        "os.chdir(\"/content/drive/MyDrive/My Drive/lastpr\")"
      ],
      "metadata": {
        "id": "AHAnyfzoxN72"
      },
      "execution_count": null,
      "outputs": []
    },
    {
      "cell_type": "code",
      "source": [
        "os.getcwd()"
      ],
      "metadata": {
        "colab": {
          "base_uri": "https://localhost:8080/",
          "height": 35
        },
        "id": "hVS_TKxIBf7k",
        "outputId": "0fac2467-7e91-4bbf-948a-d3e69f6b851a"
      },
      "execution_count": null,
      "outputs": [
        {
          "output_type": "execute_result",
          "data": {
            "text/plain": [
              "'/content/drive/My Drive/lastpr'"
            ],
            "application/vnd.google.colaboratory.intrinsic+json": {
              "type": "string"
            }
          },
          "metadata": {},
          "execution_count": 38
        }
      ]
    },
    {
      "cell_type": "markdown",
      "source": [
        "Save our model . format .h5"
      ],
      "metadata": {
        "id": "qXzasclY1P86"
      }
    },
    {
      "cell_type": "code",
      "source": [
        "model.save('worki25_22.h5')"
      ],
      "metadata": {
        "id": "gpH3sNBVB1P6"
      },
      "execution_count": null,
      "outputs": []
    },
    {
      "cell_type": "markdown",
      "source": [
        "Load saved model"
      ],
      "metadata": {
        "id": "rm9-GWED1jSK"
      }
    },
    {
      "cell_type": "code",
      "source": [
        "model = keras.models.load_model(\"/content/drive/MyDrive/lastpr/worki25_22.h5\")"
      ],
      "metadata": {
        "id": "KIzfsZwoMxnB"
      },
      "execution_count": null,
      "outputs": []
    },
    {
      "cell_type": "markdown",
      "source": [
        "Load img file and check prediction "
      ],
      "metadata": {
        "id": "JjtMFirm1pbb"
      }
    },
    {
      "cell_type": "code",
      "source": [
        "img = keras.preprocessing.image.load_img(\n",
        "    \"/content/drive/MyDrive/lastpr/lemon-quality-dataset/lemon_dataset/OK/good_quality_1000.jpg\", target_size=(180, 180)\n",
        ")\n",
        "plt.imshow(img)\n",
        "img_array = keras.preprocessing.image.img_to_array(img)\n",
        "img_array = tf.expand_dims(img_array, 0) # Create a batch\n",
        "\n",
        "predictions = model.predict(img_array)\n",
        "score = tf.nn.softmax(predictions[0])"
      ],
      "metadata": {
        "id": "rphqn1ncNEqm"
      },
      "execution_count": null,
      "outputs": []
    },
    {
      "cell_type": "markdown",
      "source": [
        "That's all "
      ],
      "metadata": {
        "id": "pzAyyfkx2lNp"
      }
    },
    {
      "cell_type": "code",
      "source": [],
      "metadata": {
        "id": "SXny8DQX2pow"
      },
      "execution_count": null,
      "outputs": []
    }
  ]
}